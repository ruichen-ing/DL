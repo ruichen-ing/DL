{
  "cells": [
    {
      "cell_type": "markdown",
      "id": "06ab2292",
      "metadata": {
        "id": "06ab2292"
      },
      "source": [
        "<a href=\"https://colab.research.google.com/github/vlamen/tue-deeplearning/blob/main/assignments/assignment_1/Assignment_1.ipynb\" target=\"_parent\"><img src=\"https://colab.research.google.com/assets/colab-badge.svg\" alt=\"Open In Colab\"/></a>    "
      ]
    },
    {
      "cell_type": "markdown",
      "id": "b9b20982",
      "metadata": {
        "id": "b9b20982"
      },
      "source": [
        "# Group Number: 22\n",
        "# Student 1: Ruichen Hu\n",
        "# Student 2: Simin Sun\n",
        "# Student 3: Siyue Chen"
      ]
    },
    {
      "cell_type": "code",
      "execution_count": null,
      "id": "b49fc2e3",
      "metadata": {
        "colab": {
          "base_uri": "https://localhost:8080/"
        },
        "id": "b49fc2e3",
        "outputId": "fb85302f-b2d0-422a-e3ec-7e1e98e5cb8b"
      },
      "outputs": [
        {
          "output_type": "stream",
          "name": "stdout",
          "text": [
            "Populating the interactive namespace from numpy and matplotlib\n"
          ]
        }
      ],
      "source": [
        "import requests\n",
        "import io\n",
        "import torch\n",
        "import torch.nn as nn\n",
        "import torch.nn.functional as F\n",
        "import numpy as np\n",
        "%pylab inline"
      ]
    },
    {
      "cell_type": "markdown",
      "id": "25cfb295",
      "metadata": {
        "id": "25cfb295"
      },
      "source": [
        "### Training data set\n",
        "\n",
        "\n",
        "For Assignment 1 you need to use a specific data set prepared using images from the [Omniglot dataset](https://github.com/brendenlake/omniglot). The provided training data set contains images of handwritten characters of size (28,28). \n",
        "\n",
        "\n",
        "\n",
        "For training data, the dataset contains 10000 sets of 6 images each. Each set consists of 5 support images and 1 query image. In each set, the first five columns are support images and the last one is a query image.\n",
        "\n",
        "For training labels, the dataset contains 10000 sets of 5 binary flags for support images. 1 indicates the same character is given in the query image and 0 means not. For example, a label [1,0,0,1,1] means the support images with index 0,3,4 are the same character of query image.\n",
        "\n",
        " \n",
        " \n",
        "The following cell provides code that loads the data from hardcoded URLs.You can use the code in this cell to load the dataset or download the data set from the given URLs to your local drive (or your Google drive) and modify the code to load the data from another location. \n",
        "\n",
        "\n"
      ]
    },
    {
      "cell_type": "code",
      "execution_count": null,
      "id": "f19f0a40",
      "metadata": {
        "colab": {
          "base_uri": "https://localhost:8080/"
        },
        "id": "f19f0a40",
        "outputId": "b6c758b6-0f72-49da-dd25-b85b6444406c"
      },
      "outputs": [
        {
          "output_type": "stream",
          "name": "stdout",
          "text": [
            "train_data shape: (10000, 6, 28, 28)\n",
            "train_label shape: (10000, 5)\n",
            "\n"
          ]
        }
      ],
      "source": [
        "def load_numpy_arr_from_url(url):\n",
        "    \"\"\"\n",
        "    Loads a numpy array from surfdrive. \n",
        "    \n",
        "    Input:\n",
        "    url: Download link of dataset \n",
        "    \n",
        "    Outputs:\n",
        "    dataset: numpy array with input features or labels\n",
        "    \"\"\"\n",
        "    \n",
        "    response = requests.get(url)\n",
        "    response.raise_for_status()\n",
        "\n",
        "    return np.load(io.BytesIO(response.content)) \n",
        "    \n",
        "    \n",
        "    \n",
        "#Downloading may take a while..\n",
        "train_data = load_numpy_arr_from_url('https://surfdrive.surf.nl/files/index.php/s/4OXkVie05NPjRKK/download')\n",
        "train_label = load_numpy_arr_from_url('https://surfdrive.surf.nl/files/index.php/s/oMLFw60zpFX82ua/download')\n",
        "\n",
        "print(f\"train_data shape: {train_data.shape}\")\n",
        "print(f\"train_label shape: {train_label.shape}\\n\")"
      ]
    },
    {
      "cell_type": "markdown",
      "id": "cb937392",
      "metadata": {
        "id": "cb937392"
      },
      "source": [
        "Now, we plot the first 5 cases in the training dataset. The last column corresponds with the query images of each task. All other images are support images. The image enclosed in a red box denotes the target image that your model should be able to recognize as the same class as the query image. "
      ]
    },
    {
      "cell_type": "code",
      "execution_count": null,
      "id": "b1b4bd29",
      "metadata": {
        "id": "b1b4bd29"
      },
      "outputs": [],
      "source": [
        "def plot_case(caseID,train_data,labels):\n",
        "    \"\"\"\n",
        "    Plots a single sample of the query dataset\n",
        "    \n",
        "    Inputs\n",
        "    caseID: Integer between 0 and 99, each corresponding to a single sample in the query dataset \n",
        "    \"\"\"\n",
        "    \n",
        "\n",
        "    support_set,queries = np.split(train_data, [5], axis=1)\n",
        "    \n",
        "    f, axes = plt.subplots(1, 6, figsize=(20,5))\n",
        "\n",
        "    # plot anchor image\n",
        "    axes[5].imshow(queries[caseID, 0])\n",
        "    axes[5].set_title(f\"Query image case {caseID}\", fontsize=15)\n",
        "\n",
        "    # show all training images \n",
        "    [ax.imshow(support_set[caseID, i]) for i, ax in enumerate(axes[0:-1])]\n",
        "\n",
        "\n",
        "    # Add the patch to the Axes\n",
        "    for ind in np.where(labels[caseID]==True)[0]:\n",
        "        axes[ind].add_patch(Rectangle((0,0),27,27,linewidth=2, edgecolor='r',facecolor='none'))\n"
      ]
    },
    {
      "cell_type": "code",
      "execution_count": null,
      "id": "03538ffb",
      "metadata": {
        "colab": {
          "base_uri": "https://localhost:8080/",
          "height": 1000
        },
        "id": "03538ffb",
        "outputId": "22d07d83-97fe-4acd-b7d5-17a52e0a6db8"
      },
      "outputs": [
        {
          "output_type": "display_data",
          "data": {
            "text/plain": [
              "<Figure size 1440x360 with 6 Axes>"
            ],
            "image/png": "[encoded data removed]"
          },
          "metadata": {
            "needs_background": "light"
          }
        },
        {
          "output_type": "display_data",
          "data": {
            "text/plain": [
              "<Figure size 1440x360 with 6 Axes>"
            ],
            "image/png": "[encoded data removed]"
          },
          "metadata": {
            "needs_background": "light"
          }
        },
        {
          "output_type": "display_data",
          "data": {
            "text/plain": [
              "<Figure size 1440x360 with 6 Axes>"
            ],
            "image/png": "[encoded data removed]"
          },
          "metadata": {
            "needs_background": "light"
          }
        },
        {
          "output_type": "display_data",
          "data": {
            "text/plain": [
              "<Figure size 1440x360 with 6 Axes>"
            ],
            "image/png": "[encoded data removed]"
          },
          "metadata": {
            "needs_background": "light"
          }
        },
        {
          "output_type": "display_data",
          "data": {
            "text/plain": [
              "<Figure size 1440x360 with 6 Axes>"
            ],
            "image/png": "[encoded data removed]"
          },
          "metadata": {
            "needs_background": "light"
          }
        }
      ],
      "source": [
        "[plot_case(caseID,train_data,train_label) for caseID in range(5)] ;"
      ]
    },
    {
      "cell_type": "markdown",
      "id": "931f2383",
      "metadata": {
        "id": "931f2383"
      },
      "source": [
        "### Query data set\n",
        "\n",
        "For this task you need to use the following query data set. The dataset contains 1000 sets of 6 images each. The images are also of hand written characters, however these characters are not present in the training data set. The characters in the query data set all come from the Greek alphabet that is not part of the set of alphabets in the training data. \n"
      ]
    },
    {
      "cell_type": "code",
      "execution_count": null,
      "id": "c9ba78dc",
      "metadata": {
        "colab": {
          "base_uri": "https://localhost:8080/"
        },
        "id": "c9ba78dc",
        "outputId": "b84a468f-02ee-40b6-c6b8-085fa91e61cc"
      },
      "outputs": [
        {
          "output_type": "stream",
          "name": "stdout",
          "text": [
            "test_data shape: (1000, 6, 28, 28)\n",
            "test_label shape: (1000, 5)\n",
            "\n"
          ]
        }
      ],
      "source": [
        "#Downloading may take a while..\n",
        "test_data = load_numpy_arr_from_url('https://surfdrive.surf.nl/files/index.php/s/06c34QVUr69CxWY/download')\n",
        "test_label = load_numpy_arr_from_url('https://surfdrive.surf.nl/files/index.php/s/LQIH1CW7lfDXevk/download')\n",
        "\n",
        "print(f\"test_data shape: {test_data.shape}\")\n",
        "print(f\"test_label shape: {test_label.shape}\\n\")"
      ]
    },
    {
      "cell_type": "code",
      "execution_count": null,
      "id": "03fb3580",
      "metadata": {
        "scrolled": false,
        "colab": {
          "base_uri": "https://localhost:8080/",
          "height": 1000
        },
        "id": "03fb3580",
        "outputId": "f4a69f0a-f500-487d-e88b-9b346fe4d841"
      },
      "outputs": [
        {
          "output_type": "display_data",
          "data": {
            "text/plain": [
              "<Figure size 1440x360 with 6 Axes>"
            ],
            "image/png": "[encoded data removed]"
          },
          "metadata": {
            "needs_background": "light"
          }
        },
        {
          "output_type": "display_data",
          "data": {
            "text/plain": [
              "<Figure size 1440x360 with 6 Axes>"
            ],
            "image/png": "[encoded data removed]"
          },
          "metadata": {
            "needs_background": "light"
          }
        },
        {
          "output_type": "display_data",
          "data": {
            "text/plain": [
              "<Figure size 1440x360 with 6 Axes>"
            ],
            "image/png": "[encoded data removed]"
          },
          "metadata": {
            "needs_background": "light"
          }
        },
        {
          "output_type": "display_data",
          "data": {
            "text/plain": [
              "<Figure size 1440x360 with 6 Axes>"
            ],
            "image/png": "[encoded data removed]"
          },
          "metadata": {
            "needs_background": "light"
          }
        },
        {
          "output_type": "display_data",
          "data": {
            "text/plain": [
              "<Figure size 1440x360 with 6 Axes>"
            ],
            "image/png": "[encoded data removed]"
          },
          "metadata": {
            "needs_background": "light"
          }
        }
      ],
      "source": [
        "[plot_case(caseID,test_data,test_label) for caseID in range(5)] ;"
      ]
    },
    {
      "cell_type": "markdown",
      "id": "fcc32db2",
      "metadata": {
        "id": "fcc32db2"
      },
      "source": [
        "### Build pytorch dataset and dataload"
      ]
    },
    {
      "cell_type": "code",
      "execution_count": null,
      "id": "fcf31f45",
      "metadata": {
        "id": "fcf31f45"
      },
      "outputs": [],
      "source": [
        "import torch\n",
        "from torchvision import transforms\n",
        "from torch.utils.data import Dataset, DataLoader,TensorDataset\n",
        "import numpy as np\n",
        "from PIL import Image\n",
        "\n",
        "\n",
        "class MyDataset(Dataset):\n",
        "    def __init__(self, data, targets):\n",
        "        self.data = torch.FloatTensor(data)\n",
        "        self.targets = torch.LongTensor(targets)\n",
        "\n",
        "        \n",
        "    def __getitem__(self, index):\n",
        "        x = self.data[index]\n",
        "        y = self.targets[index]\n",
        "        \n",
        "\n",
        "        return x, y\n",
        "    \n",
        "    def __len__(self):\n",
        "        return len(self.data)"
      ]
    },
    {
      "cell_type": "code",
      "execution_count": null,
      "id": "d3d75da8",
      "metadata": {
        "id": "d3d75da8"
      },
      "outputs": [],
      "source": [
        "# transform = transforms.ToTensor()\n",
        "train_dataset=MyDataset(train_data,train_label)\n",
        "test_dataset=MyDataset(test_data,test_label)"
      ]
    },
    {
      "cell_type": "code",
      "execution_count": null,
      "id": "d4c1bd77",
      "metadata": {
        "id": "d4c1bd77"
      },
      "outputs": [],
      "source": [
        "train_loader = torch.utils.data.DataLoader(train_dataset, batch_size=10)"
      ]
    },
    {
      "cell_type": "code",
      "execution_count": null,
      "id": "2b747c92",
      "metadata": {
        "id": "2b747c92"
      },
      "outputs": [],
      "source": [
        "test_loader = torch.utils.data.DataLoader(test_dataset, batch_size=10)"
      ]
    },
    {
      "cell_type": "code",
      "execution_count": null,
      "id": "1f38e519",
      "metadata": {
        "id": "1f38e519"
      },
      "outputs": [],
      "source": [
        "## Task  ##"
      ]
    },
    {
      "cell_type": "code",
      "execution_count": null,
      "id": "5f1a9501",
      "metadata": {
        "id": "5f1a9501"
      },
      "outputs": [],
      "source": [
        "## Build Sample Selector ##\n",
        "BATCH_SIZE = 50\n",
        "\n",
        "# For each set, combine the first 5 images with the query image respectively and get 5 pairs of training data.\n",
        "def make_dataloader(dataset):\n",
        "  x1 = []\n",
        "  x2 = []\n",
        "  label = []\n",
        "  for x, y in dataset:\n",
        "    for i in range(len(y)):\n",
        "      x1.append(np.array(torch.unsqueeze(x[i], 0).numpy()))\n",
        "      x2.append(np.array(torch.unsqueeze(x[5], 0).numpy()))\n",
        "      label.append(torch.unsqueeze(y[i], 0).numpy())\n",
        "  x1 = torch.tensor(np.array(x1))\n",
        "  x2 = torch.tensor(np.array(x2))\n",
        "  label = torch.tensor(np.array(label))\n",
        "  triple = TensorDataset(x1, x2, label)\n",
        "  # train: 10000*5 -> 1000 batches * size(50)\n",
        "  # test: 1000*5 -> 100 batches * size(50)\n",
        "  dataloader = DataLoader(triple, batch_size=BATCH_SIZE) \n",
        "  return dataloader\n",
        "\n",
        "pair_train_loader = make_dataloader(train_dataset)\n",
        "pair_test_loader = make_dataloader(test_dataset)"
      ]
    },
    {
      "cell_type": "code",
      "execution_count": null,
      "id": "0b6fdfee",
      "metadata": {
        "id": "0b6fdfee"
      },
      "outputs": [],
      "source": [
        "## Model Definition ##\n",
        "from torch.nn.modules.activation import ReLU\n",
        "class Siamese(nn.Module):\n",
        "  def __init__(self):\n",
        "    super(Siamese, self).__init__()\n",
        "    self.cnn1 = nn.Sequential(\n",
        "        # input: Batch size(50) * 1 * 28 * 28\n",
        "        nn.Conv2d(1, 32, kernel_size=3),\n",
        "        nn.ReLU(inplace=True),\n",
        "        nn.BatchNorm2d(32),\n",
        "        nn.MaxPool2d(2),\n",
        "\n",
        "        # 50 x 32 x 13 x 13\n",
        "        nn.Conv2d(32, 64, kernel_size=3),\n",
        "        nn.ReLU(inplace=True),\n",
        "        nn.BatchNorm2d(64),\n",
        "        nn.MaxPool2d(2),\n",
        "\n",
        "        # 50 x 64 x 5 x 5\n",
        "        nn.ReflectionPad2d(1),\n",
        "        nn.Conv2d(64, 64, kernel_size=3),\n",
        "        nn.ReLU(inplace=True),\n",
        "        nn.BatchNorm2d(64),\n",
        "\n",
        "        # 50 x 128 x 5 x 5\n",
        "        nn.ReflectionPad2d(1),\n",
        "        nn.Conv2d(64, 128, kernel_size=3),\n",
        "        nn.ReLU(inplace=True),\n",
        "        nn.BatchNorm2d(128)\n",
        "\n",
        "    )\n",
        "\n",
        "    self.fc1 = nn.Sequential(\n",
        "        # 50 x 128 x 5 x 5\n",
        "        nn.Linear(128*5*5, 128),\n",
        "        nn.ReLU(inplace=True),\n",
        "        \n",
        "        # 50 x 128\n",
        "        nn.Linear(128, 128),\n",
        "        nn.ReLU(inplace=True),\n",
        "\n",
        "        # output dimension: an arbitrary value\n",
        "        # 50 x 10\n",
        "        nn.Linear(128, 10)\n",
        "    )\n",
        "\n",
        "  def half_pass(self, input):\n",
        "    out = self.cnn1(input)\n",
        "    out = out.view(out.size()[0], -1) # 50 x (32 x 5 x 5)\n",
        "    out = self.fc1(out)\n",
        "    return out\n",
        "\n",
        "  def forward(self, x1, x2):\n",
        "    out1 = self.half_pass(x1)\n",
        "    out2 = self.half_pass(x2)\n",
        "    return out1, out2"
      ]
    },
    {
      "cell_type": "code",
      "execution_count": null,
      "id": "93e6f3fb",
      "metadata": {
        "id": "93e6f3fb"
      },
      "outputs": [],
      "source": [
        "## LOSS Definition ##\n",
        "class ContrastiveLoss(nn.Module):\n",
        "  def __init__(self, device, margin=0.2):\n",
        "    super(ContrastiveLoss, self).__init__()\n",
        "    self.margin = margin\n",
        "    self.device = device\n",
        "  \n",
        "  def forward(self, X1, X2, y):\n",
        "    # X1, X2: condense 50 imgs in one vector, y: label for each img pair; y=1: same class; y = 0: different class\n",
        "    dist = F.pairwise_distance(X1, X2, keepdim = True)   # 50 x 1\n",
        "    batch_loss = torch.sum(y * torch.pow(dist, 2) + (1 - y) * torch.pow(torch.maximum(self.margin - dist, torch.zeros(BATCH_SIZE, 1).to(self.device)), 2))\n",
        "    return batch_loss, dist"
      ]
    },
    {
      "cell_type": "code",
      "source": [
        "LEARNING_RATE = 0.001\n",
        "REGULARIZATION_RATE = 0.05\n",
        "\n",
        "## TO DO ##\n",
        "# margin should be twice the average Euclidean distance between features of training image pairs before learning\n",
        "MARGIN = 0.3\n",
        "\n",
        "MOMENTUM = 0.9\n",
        "\n",
        "def config_model():\n",
        "  model = Siamese()\n",
        "  device = torch.device(\n",
        "      \"cuda\") if torch.cuda.is_available() else torch.device(\"cpu\")\n",
        "  model.to(device)\n",
        "\n",
        "  loss_function = ContrastiveLoss(margin=MARGIN, device=device)\n",
        "  optimizer = torch.optim.SGD(model.parameters(), lr=LEARNING_RATE, weight_decay=REGULARIZATION_RATE, momentum=MOMENTUM)\n",
        "  return model, loss_function, optimizer, device"
      ],
      "metadata": {
        "id": "5ScB1LSve0UX"
      },
      "id": "5ScB1LSve0UX",
      "execution_count": null,
      "outputs": []
    },
    {
      "cell_type": "code",
      "source": [
        "## Training ##\n",
        "EPOCH_NUM = 15\n",
        "model, loss_function, optimizer, device = config_model()\n",
        "\n",
        "losses = []\n",
        "def training(dataloader):\n",
        "  model.train()\n",
        "  for epoch in range(EPOCH_NUM):\n",
        "    sample_num = 0\n",
        "    total_loss = 0\n",
        "    correct = 0\n",
        "    for x1, x2, y in dataloader:\n",
        "      # each batch: 50 image pairs\n",
        "      sample_num += x1.shape[0]\n",
        "      x1 = x1.to(device)\n",
        "      x2 = x2.to(device)\n",
        "      y = y.to(device)\n",
        "      \n",
        "      model.zero_grad()\n",
        "      out1, out2 = model(x1, x2)\n",
        "      loss, dist = loss_function(out1, out2, y)\n",
        "\n",
        "      loss.backward()\n",
        "      optimizer.step()\n",
        "      total_loss += loss.item()\n",
        "\n",
        "    acc = correct / sample_num\n",
        "    average_loss= total_loss/sample_num\n",
        "    losses.append(average_loss)\n",
        "    print('Epoch:', epoch, '\\tTraining Loss:', average_loss)\n",
        "  \n",
        "  fig, ax = plt.subplots()\n",
        "  # ax.set_title(\"Training loss\")\n",
        "  ax.set_xlabel(\"Epoch\")\n",
        "  ax.set_ylabel(\"Training Loss\")\n",
        "  ax.plot(list(range(0, EPOCH_NUM)), losses);\n",
        "\n",
        "\n",
        "training(pair_train_loader)"
      ],
      "metadata": {
        "id": "BRQ5nM1b_JZB",
        "colab": {
          "base_uri": "https://localhost:8080/",
          "height": 539
        },
        "outputId": "04cda618-c2e9-4d7f-81e2-7a7792dae160"
      },
      "id": "BRQ5nM1b_JZB",
      "execution_count": null,
      "outputs": [
        {
          "output_type": "stream",
          "name": "stdout",
          "text": [
            "Epoch: 0 \tTraining Loss: 0.011348750566840171\n",
            "Epoch: 1 \tTraining Loss: 0.007859797753691673\n",
            "Epoch: 2 \tTraining Loss: 0.007182168480455876\n",
            "Epoch: 3 \tTraining Loss: 0.006922982262670994\n",
            "Epoch: 4 \tTraining Loss: 0.006781164486706257\n",
            "Epoch: 5 \tTraining Loss: 0.006682599625587464\n",
            "Epoch: 6 \tTraining Loss: 0.006584761443734169\n",
            "Epoch: 7 \tTraining Loss: 0.0064162091067433355\n",
            "Epoch: 8 \tTraining Loss: 0.006329963045716286\n",
            "Epoch: 9 \tTraining Loss: 0.006259964982271195\n",
            "Epoch: 10 \tTraining Loss: 0.006152719916105271\n",
            "Epoch: 11 \tTraining Loss: 0.006083149826228619\n",
            "Epoch: 12 \tTraining Loss: 0.005925096845030784\n",
            "Epoch: 13 \tTraining Loss: 0.005950722154974938\n",
            "Epoch: 14 \tTraining Loss: 0.005920068034678698\n"
          ]
        },
        {
          "output_type": "display_data",
          "data": {
            "text/plain": [
              "<Figure size 432x288 with 1 Axes>"
            ],
            "image/png": "[encoded data removed]"
          },
          "metadata": {
            "needs_background": "light"
          }
        }
      ]
    },
    {
      "cell_type": "code",
      "source": [
        "## Evaluation ##\n",
        "def evaluation(dataloader, label):\n",
        "  model.eval()\n",
        "  \n",
        "  with torch.no_grad():\n",
        "    pred_label = torch.empty((0, 5), dtype=torch.int64).cuda()\n",
        "    true_label = label.astype(int)\n",
        "    for x1, x2, y in dataloader:\n",
        "      x1 = x1.to(device)\n",
        "      x2 = x2.to(device)\n",
        "      y = y.to(device)\n",
        "      \n",
        "      out1, out2 = model(x1, x2)\n",
        "      dist = F.pairwise_distance(out1, out2)\n",
        "      dist = dist.reshape((-1, 5))\n",
        "\n",
        "      pred = (dist <= torch.mean(dist, dim=1, keepdim=True)).int()\n",
        "\n",
        "      # Alternative: softmax\n",
        "      # proc = nn.Softmax(dim=1)\n",
        "      # dist = proc(dist)\n",
        "\n",
        "      pred_label = torch.cat((pred_label, pred), 0)\n",
        "\n",
        "  pred_label = pred_label.cpu().numpy()\n",
        "  diff = pred_label - true_label\n",
        "  FP = np.count_nonzero(diff == 1)\n",
        "  FN = np.count_nonzero(diff == -1)\n",
        "  acc = 1 - (FP + FN)/diff.size\n",
        "\n",
        "  print(f\"Test accuracy: {acc}\")  # 0.883\n",
        "\n",
        "evaluation(pair_test_loader, test_label)\n"
      ],
      "metadata": {
        "colab": {
          "base_uri": "https://localhost:8080/"
        },
        "id": "NQBUcd6U1ve5",
        "outputId": "d769c375-c5a6-45e0-ac34-beaee8d9d724"
      },
      "id": "NQBUcd6U1ve5",
      "execution_count": null,
      "outputs": [
        {
          "output_type": "stream",
          "name": "stdout",
          "text": [
            "Test accuracy: 0.8844\n"
          ]
        }
      ]
    },
    {
      "cell_type": "code",
      "source": [
        "import matplotlib.pyplot as plt\n",
        "## Evaluation ##\n",
        "def evaluation_ROC(dataloader, label):\n",
        "  model.eval()\n",
        "  \n",
        "  with torch.no_grad():\n",
        "    true_label = label.astype(int)\n",
        "    similarity = []\n",
        "    for x1, x2, y in dataloader:\n",
        "      x1 = x1.to(device)\n",
        "      x2 = x2.to(device)\n",
        "      y = y.to(device)\n",
        "      \n",
        "      out1, out2 = model(x1, x2)\n",
        "      cos = F.cosine_similarity(out1, out2, dim=1)\n",
        "      similarity.extend(cos.cpu().numpy())\n",
        "\n",
        "  similarity = np.array(similarity).reshape((true_label.shape[0], -1))\n",
        "\n",
        "  thresholds = np.linspace(0.0, 1.0, num=10001)\n",
        "  TPRs = []\n",
        "  FPRs = []\n",
        "  P = np.count_nonzero(true_label)\n",
        "  N = true_label.size - sum(true_label)\n",
        "  for t in thresholds:\n",
        "    pred_label = (similarity >= t).astype(int)  # similarity判定与dist相反\n",
        "    diff = pred_label - true_label\n",
        "    FP = np.count_nonzero(diff == 1)\n",
        "    TP = np.count_nonzero(pred_label == 1) - FP\n",
        "    TPR = TP / P\n",
        "    FPR = FP / N\n",
        "    TPRs.append(TPR)\n",
        "    FPRs.append(FPR)\n",
        "\n",
        "  TPRs = np.array(TPRs)\n",
        "  FPRs = np.array(FPRs)\n",
        "  # find the point nearest to (0, 1) on ROC curve, get the corresbonding threshold\n",
        "  index = np.argmin((np.power(FPRs, 2) + np.power(TPRs - 1, 2)))\n",
        "  threshold = thresholds[index]\n",
        "  \n",
        "  fig, ax = plt.subplots()\n",
        "  ax.set_title(\"ROC\")\n",
        "  ax.set_xlabel(\"FPR\")\n",
        "  ax.set_ylabel(\"TPR\")\n",
        "  ax.scatter(FPRs[index], TPRs[index])\n",
        "  ax.plot(FPRs, TPRs);\n",
        "\n",
        "  pred_label = (similarity >= threshold).astype(int)\n",
        "  diff = pred_label - true_label\n",
        "  FP = np.count_nonzero(diff == 1)\n",
        "  FN = np.count_nonzero(diff == -1)\n",
        "  acc = 1 - (FP + FN)/diff.size\n",
        "\n",
        "  print(f\"Test accuracy: {acc}\")  # 0.8982\n",
        "\n",
        "evaluation_ROC(pair_test_loader, test_label)\n"
      ],
      "metadata": {
        "colab": {
          "base_uri": "https://localhost:8080/",
          "height": 312
        },
        "id": "WV2X8D9Xg6ZL",
        "outputId": "b1652008-b6c4-41d5-a8eb-daa8fd22d74c"
      },
      "id": "WV2X8D9Xg6ZL",
      "execution_count": null,
      "outputs": [
        {
          "output_type": "stream",
          "name": "stdout",
          "text": [
            "Test accuracy: 0.9044\n"
          ]
        },
        {
          "output_type": "display_data",
          "data": {
            "text/plain": [
              "<Figure size 432x288 with 1 Axes>"
            ],
            "image/png": "[encoded data removed]"
          },
          "metadata": {
            "needs_background": "light"
          }
        }
      ]
    }
  ],
  "metadata": {
    "kernelspec": {
      "display_name": "Python 3",
      "language": "python",
      "name": "python3"
    },
    "language_info": {
      "codemirror_mode": {
        "name": "ipython",
        "version": 3
      },
      "file_extension": ".py",
      "mimetype": "text/x-python",
      "name": "python",
      "nbconvert_exporter": "python",
      "pygments_lexer": "ipython3",
      "version": "3.8.8"
    },
    "colab": {
      "name": "Assignment_1_v3.ipynb",
      "provenance": [],
      "collapsed_sections": []
    },
    "accelerator": "GPU"
  },
  "nbformat": 4,
  "nbformat_minor": 5
}