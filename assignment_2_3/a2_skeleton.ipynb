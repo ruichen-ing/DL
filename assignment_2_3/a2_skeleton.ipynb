{
  "cells": [
    {
      "cell_type": "markdown",
      "id": "730fd591",
      "metadata": {
        "id": "730fd591"
      },
      "source": [
        "<a href=\"https://colab.research.google.com/github/vlamen/tue-deeplearning/blob/main/assignments/assignment_2_3/a2_skeleton.ipynb\" target=\"_parent\"><img src=\"https://colab.research.google.com/assets/colab-badge.svg\" alt=\"Open In Colab\"/></a>"
      ]
    },
    {
      "cell_type": "markdown",
      "id": "d32f8d18",
      "metadata": {
        "id": "d32f8d18"
      },
      "source": [
        "# Group Number:\n",
        "\n",
        "# Student 1:\n",
        "\n",
        "# Student 2:\n",
        "\n",
        "# Student 3:"
      ]
    },
    {
      "cell_type": "markdown",
      "id": "faec2056",
      "metadata": {
        "id": "faec2056"
      },
      "source": [
        "# Downloading Data and Preliminaries"
      ]
    },
    {
      "cell_type": "code",
      "execution_count": 1,
      "id": "7d0580a5",
      "metadata": {
        "id": "7d0580a5"
      },
      "outputs": [],
      "source": [
        "import pickle\n",
        "import matplotlib.pyplot as plt\n",
        "import matplotlib\n",
        "import numpy as np\n",
        "\n",
        "from zipfile import ZipFile\n",
        "import requests\n",
        "import io\n",
        "\n",
        "import torch\n",
        "from torch.utils.data import DataLoader, TensorDataset"
      ]
    },
    {
      "cell_type": "code",
      "execution_count": 2,
      "id": "b0756591",
      "metadata": {
        "id": "b0756591"
      },
      "outputs": [],
      "source": [
        "def load_zip(url):\n",
        "    response = requests.get(url)\n",
        "    response.raise_for_status()\n",
        "    zipf = ZipFile(io.BytesIO(response.content))\n",
        "    return {name: zipf.read(name) for name in zipf.namelist()}\n",
        "\n",
        "def load_array(zipfile, fn):\n",
        "    return np.load(io.BytesIO(zipfile[fn]))"
      ]
    },
    {
      "cell_type": "code",
      "execution_count": 3,
      "id": "bb77a4be",
      "metadata": {
        "colab": {
          "base_uri": "https://localhost:8080/"
        },
        "id": "bb77a4be",
        "outputId": "854bed5b-700d-4618-925c-794d54f6af57"
      },
      "outputs": [
        {
          "output_type": "stream",
          "name": "stdout",
          "text": [
            "Shapes of the training data:\n",
            "\n",
            "positions: (10000, 4, 2, 5)\n",
            "velocities: (10000, 1, 2, 5)\n",
            "charges: (10000, 5, 1)\n"
          ]
        }
      ],
      "source": [
        "\"\"\"\n",
        "This cell loads the training, validation or test data as numpy arrays,\n",
        "with the positions, initial velocities and charge data of the particles.\n",
        "\n",
        "The position arrays are shaped as\n",
        "[simulation id, time point (corresponding to t = 0, 0.5, 1 or 1.5), x/y spatial dimension, particle id].\n",
        "\n",
        "The initial velocity arrays are shaped as\n",
        "[simulation id, 1 (corresponding to t=0), x/y spatial dimension, particle id].\n",
        "\n",
        "The charge arrays are shaped as [simulation id, particle id, 1]\n",
        "\n",
        "\"\"\"\n",
        "\n",
        "data = load_zip('https://surfdrive.surf.nl/files/index.php/s/OIgda2ZRG8v0eqB/download')\n",
        "\n",
        "features = ['positions', 'velocities', 'charges']\n",
        "\n",
        "positions_train, velocities_train, charges_train = (load_array(data, f'data/train/{f}.npy') for f in features)  # (10000, 4, 2, 5), (10000, 1, 2, 5), (10000, 5, 1)\n",
        "positions_valid, velocities_valid, charges_valid = (load_array(data, f'data/valid/{f}.npy') for f in features) # (2000, 4, 2, 5), (2000, 1, 2, 5), (2000, 5, 1)\n",
        "positions_test, velocities_test, charges_test = (load_array(data, f'data/test/{f}.npy') for f in features)    # (2000, 4, 2, 5), (2000, 1, 2, 5), (2000, 5, 1)\n",
        "\n",
        "print('Shapes of the training data:\\n')\n",
        "print(f'positions: {positions_train.shape}')\n",
        "print(f'velocities: {velocities_train.shape}')\n",
        "print(f'charges: {charges_train.shape}')"
      ]
    },
    {
      "cell_type": "code",
      "execution_count": 4,
      "id": "1c3ea4cb",
      "metadata": {
        "colab": {
          "base_uri": "https://localhost:8080/"
        },
        "id": "1c3ea4cb",
        "outputId": "5aeb9fdd-30fb-4395-c2d2-4e3c54ab14df"
      },
      "outputs": [
        {
          "output_type": "stream",
          "name": "stdout",
          "text": [
            "An example of retrieving data from the arrays:\n",
            "\n",
            "\n",
            "In simulation 42 of the training set, particle 3 with charge -1.0 had coordinates [ 2.05159559 -1.46130851].\n",
            "The initial velocity of this particle was [ 0.28402364 -0.24784824].\n"
          ]
        }
      ],
      "source": [
        "print('An example of retrieving data from the arrays:\\n\\n')\n",
        "\n",
        "sim_idx = 42\n",
        "t_idx = 2  # t_idx 0, 1, 2, 3 corresponds to t=0, 0.5, 1 and 1.5 respectively\n",
        "spatial_idx = (0,1)  # corresponds to both x and y dimension\n",
        "particle_idx = 3  # corresponds to particle with index 3\n",
        "\n",
        "p = positions_train[sim_idx, t_idx, spatial_idx, particle_idx]\n",
        "v = velocities_train[sim_idx, 0, spatial_idx, particle_idx]  # note: this array contains only the inital velocity -> hence the 0\n",
        "c = charges_train[sim_idx, particle_idx, 0]\n",
        "\n",
        "print(\n",
        "    f'In simulation {sim_idx} of the training set, particle {particle_idx} with charge {c} had coordinates {p}.\\nThe initial velocity of this particle was {v}.'\n",
        ")"
      ]
    },
    {
      "cell_type": "code",
      "execution_count": 5,
      "id": "10a3438a",
      "metadata": {
        "colab": {
          "base_uri": "https://localhost:8080/"
        },
        "id": "10a3438a",
        "outputId": "96aef80b-6496-45e2-9f3b-91240481a025"
      },
      "outputs": [
        {
          "output_type": "stream",
          "name": "stdout",
          "text": [
            "Overview of no. datapoints:\n",
            "\n",
            "10000 train, 2000 validation, 2000 test simulations\n"
          ]
        }
      ],
      "source": [
        "print('Overview of no. datapoints:\\n')\n",
        "\n",
        "print(f'{len(positions_train)} train, {len(positions_valid)} validation, {len(positions_test)} test simulations')"
      ]
    },
    {
      "cell_type": "code",
      "execution_count": 6,
      "id": "f9106543",
      "metadata": {
        "id": "f9106543"
      },
      "outputs": [],
      "source": [
        "def plot_example(pos, vel):\n",
        "\n",
        "    fig = plt.figure()\n",
        "    axes = plt.gca()\n",
        "    axes.set_xlim([-5., 5.])\n",
        "    axes.set_ylim([-5., 5.])\n",
        "    colors = ['red', 'blue', 'green', 'orange', 'brown']\n",
        "    for i in range(pos.shape[-1]):\n",
        "        plt.plot(pos[0, 0, i], pos[0, 1, i], 'd', color=colors[i])\n",
        "        plt.plot(pos[-1, 0, i], pos[-1, 1, i], 'x', color=colors[i])\n",
        "        plt.plot([pos[0, 0, i], pos[0, 0, i] + vel[0, 0, i]], [pos[0, 1, i], pos[0, 1, i] + vel[0, 1, i]], '--', color=colors[i])\n",
        "    fig.set_size_inches(7, 7)\n",
        "    plt.xlim(np.min(pos)-1, np.max(pos) +1)\n",
        "    plt.ylim(np.min(pos)-1, np.max(pos) +1)\n",
        "    plt.plot([], [], 'd', color='black', label='initial position')\n",
        "    plt.plot([], [], 'x', color='black', label='final position')\n",
        "    plt.plot([], [], '--', color='black', label='initial velocity \\ndirection and magnitude')\n",
        "    plt.legend()\n",
        "    \n",
        "    plt.show()\n",
        "    return"
      ]
    },
    {
      "cell_type": "code",
      "execution_count": 7,
      "id": "d28681a6",
      "metadata": {
        "colab": {
          "base_uri": "https://localhost:8080/",
          "height": 428
        },
        "id": "d28681a6",
        "outputId": "ad579370-f810-45da-8782-18795bd9aa9c"
      },
      "outputs": [
        {
          "output_type": "display_data",
          "data": {
            "text/plain": [
              "<Figure size 504x504 with 1 Axes>"
            ],
            "image/png": "[encoded data removed]"
          },
          "metadata": {
            "needs_background": "light"
          }
        }
      ],
      "source": [
        "random_idx = np.random.randint(0, 10000)  # 随机生成一个simulation id, plot这个simulation的particals的运动轨迹。每个simulation包含了t=0,0.5,1,1.5这4个时间点的particle的位置\n",
        "plot_example(positions_train[random_idx], velocities_train[random_idx])"
      ]
    },
    {
      "cell_type": "markdown",
      "id": "059b633c",
      "metadata": {
        "id": "059b633c"
      },
      "source": [
        "# Data Handling and Preprocessing"
      ]
    },
    {
      "cell_type": "code",
      "execution_count": 8,
      "id": "e6ecb529",
      "metadata": {
        "id": "e6ecb529",
        "colab": {
          "base_uri": "https://localhost:8080/"
        },
        "outputId": "6708ca10-4fde-46ee-c1c0-182778c997e6"
      },
      "outputs": [
        {
          "output_type": "stream",
          "name": "stdout",
          "text": [
            "Simulation id: 42\n",
            "--------------------------------------------------\n",
            "Particle 0:\n",
            "initial speed: [-0.65809419  0.83992187]\n",
            "charge: 1.0\n",
            "t = 0.0, position: [-1.76624107  0.93973633]\n",
            "t = 0.5, position: [-2.08163222  1.3930285 ]\n",
            "t = 1.0, position: [-2.37825743  1.90932565]\n",
            "t = 1.5, position: [-2.69592681  2.46719546]\n",
            "--------------------------------------------------\n",
            "Particle 1:\n",
            "initial speed: [-0.40620729  0.16026227]\n",
            "charge: -1.0\n",
            "t = 0.0, position: [-0.20959475  1.86319488]\n",
            "t = 0.5, position: [-0.41693119  1.91713519]\n",
            "t = 1.0, position: [-0.64291873  1.93309039]\n",
            "t = 1.5, position: [-0.89414468  1.93751838]\n",
            "--------------------------------------------------\n",
            "Particle 2:\n",
            "initial speed: [0.02911909 0.29003103]\n",
            "charge: 1.0\n",
            "t = 0.0, position: [1.63593336 0.83207924]\n",
            "t = 0.5, position: [1.63487281 0.96496278]\n",
            "t = 1.0, position: [1.60443825 1.0748045 ]\n",
            "t = 1.5, position: [1.54730075 1.16200246]\n",
            "--------------------------------------------------\n",
            "Particle 3:\n",
            "initial speed: [ 0.28402364 -0.24784824]\n",
            "charge: -1.0\n",
            "t = 0.0, position: [ 1.76945554 -1.28849357]\n",
            "t = 0.5, position: [ 1.9109161  -1.39225062]\n",
            "t = 1.0, position: [ 2.05159559 -1.46130851]\n",
            "t = 1.5, position: [ 2.19160159 -1.50145464]\n",
            "--------------------------------------------------\n",
            "Particle 4:\n",
            "initial speed: [-0.55911203 -0.10671056]\n",
            "charge: -1.0\n",
            "t = 0.0, position: [-3.25945653  2.78550336]\n",
            "t = 0.5, position: [-3.53226434  2.71697257]\n",
            "t = 1.0, position: [-3.77503191  2.61176457]\n",
            "t = 1.5, position: [-3.94414047  2.47024312]\n"
          ]
        }
      ],
      "source": [
        "def print_simulation(sim=0):\n",
        "  print(f\"Simulation id: {sim}\")\n",
        "  for particle in range(5):\n",
        "    print(\"-\" * 50)\n",
        "    print(f\"Particle {particle}:\")\n",
        "    p = [positions_train[sim, t, (0, 1), particle] for t in range(4)]\n",
        "    v = velocities_train[sim, 0, (0, 1), particle]\n",
        "    c = charges_train[sim, particle, 0]\n",
        "    print(f\"initial speed: {v}\")\n",
        "    print(f\"charge: {c}\")\n",
        "    for t, pos in enumerate(p):\n",
        "      print(f\"t = {t*0.5}, position: {pos}\")\n",
        "\n",
        "print_simulation(42)"
      ]
    },
    {
      "cell_type": "code",
      "source": [
        "velocity_train_data = torch.tensor(velocities_train.reshape(-1, 10), dtype=torch.float) # (sim_dix) -> [x1, x2, x3, x4, x5, y1, y2, y3, y4, y5]\n",
        "charge_train_data = torch.tensor(charges_train.reshape(charges_train.shape[0], -1), dtype=torch.int)  # (sim_dix) -> [x1, x2, x3, x4, x5, y1, y2, y3, y4, y5]\n",
        "position_train_data = torch.tensor(positions_train.reshape(positions_train.shape[0], -1, 10), dtype=torch.float)  # (sim_dix, time) -> -> [x1, x2, x3, x4, x5, y1, y2, y3, y4, y5]\n",
        "\n",
        "velocity_vali_data = torch.tensor(velocities_valid.reshape(-1, 10), dtype=torch.float)\n",
        "charge_vali_data = torch.tensor(charges_valid.reshape(charges_valid.shape[0], -1), dtype=torch.int)\n",
        "position_vali_data = torch.tensor(positions_valid.reshape(positions_valid.shape[0], -1, 10), dtype=torch.float)\n",
        "\n",
        "velocity_test_data = torch.tensor(velocities_test.reshape(-1, 10), dtype=torch.float)\n",
        "charge_test_data = torch.tensor(charges_test.reshape(charges_test.shape[0], -1), dtype=torch.int)\n",
        "position_test_data = torch.tensor(positions_test.reshape(positions_test.shape[0], -1, 10), dtype=torch.float)\n",
        "\n",
        "num_positions = velocity_train_data.shape[-1]\n",
        "num_particles = charge_train_data.shape[-1]\n",
        "num_times = positions_train.shape[1]\n",
        "\n",
        "train_dataset = TensorDataset(velocity_train_data, charge_train_data, position_train_data)\n",
        "val_dataset = TensorDataset(velocity_vali_data, charge_vali_data, position_vali_data)\n",
        "test_dataset = TensorDataset(velocity_test_data, charge_test_data, position_test_data)\n",
        "\n",
        "train_dataloader = DataLoader(train_dataset, batch_size=100)  # 10000 = 100 * 100\n",
        "val_dataloader = DataLoader(val_dataset, batch_size=100)      # 2000 = 20 * 100\n",
        "test_dataloader = DataLoader(test_dataset, batch_size=100)    # 2000 = 20 * 100\n",
        "\n",
        "# (sim_idx) -> charge[c1, c2, c3, c4, c5]\n",
        "# (sim_idx) -> velocity[x1, x2, x3, x4, x5, y1, y2, y3, y4, y5]\n",
        "# (sim_idx, time) -> position[x1, x2, x3, x4, x5, y1, y2, y3, y4, y5]"
      ],
      "metadata": {
        "id": "45IkQkbNc14L"
      },
      "id": "45IkQkbNc14L",
      "execution_count": 9,
      "outputs": []
    },
    {
      "cell_type": "code",
      "execution_count": 10,
      "id": "f8633eb8",
      "metadata": {
        "id": "f8633eb8",
        "colab": {
          "base_uri": "https://localhost:8080/"
        },
        "outputId": "d76bf8d8-6dcc-4371-f353-8bd5fdd91a7a"
      },
      "outputs": [
        {
          "output_type": "stream",
          "name": "stdout",
          "text": [
            "Training set:\n",
            "velocity: torch.Size([10000, 10])\n",
            "charge: torch.Size([10000, 5])\n",
            "position: torch.Size([2000, 4, 10])\n",
            "\n",
            "Each batch in training set\n",
            "velocity: torch.Size([100, 10])\n",
            "charge: torch.Size([100, 5])\n",
            "position: torch.Size([100, 4, 10])\n"
          ]
        }
      ],
      "source": [
        "print(\"Training set:\")\n",
        "print(f\"velocity: {velocity_train_data.shape}\\ncharge: {charge_train_data.shape}\\nposition: {position_vali_data.shape}\\n\")\n",
        "\n",
        "print(\"Each batch in training set\")\n",
        "for v, c, p in train_dataloader:\n",
        "  print(f\"velocity: {v.shape}\\ncharge: {c.shape}\\nposition: {p.shape}\")\n",
        "  break"
      ]
    },
    {
      "cell_type": "markdown",
      "id": "18b2874d",
      "metadata": {
        "id": "18b2874d"
      },
      "source": [
        "# Model Implementation"
      ]
    },
    {
      "cell_type": "markdown",
      "source": [
        "<image src=\"https://cdn.jsdelivr.net/gh/ruichen-ing/images@master/RNN_a2.png\" width=\"700\" />\n"
      ],
      "metadata": {
        "id": "lGMM2Y9nnSCe"
      },
      "id": "lGMM2Y9nnSCe"
    },
    {
      "cell_type": "code",
      "execution_count": 11,
      "id": "66774050",
      "metadata": {
        "id": "66774050"
      },
      "outputs": [],
      "source": [
        "from torch import nn\n",
        "\n",
        "class PreprocessMLP(nn.Module):\n",
        "    \"\"\"\n",
        "    Preprocess velocity, charge, position input and map them to an embedding by a MLP.\n",
        "    The embedding is the output of MLP and input of LSTM.\n",
        "    \"\"\"\n",
        "\n",
        "    def __init__(self, in_dim, out_dim=32):\n",
        "        super().__init__()\n",
        "\n",
        "        self.mlp = nn.Sequential(\n",
        "            nn.Linear(in_dim, 16),\n",
        "            nn.ReLU(inplace=True),\n",
        "            nn.Linear(16, out_dim),\n",
        "            nn.ReLU(inplace=True)\n",
        "        )\n",
        "\n",
        "    def forward(self, x):\n",
        "        return self.mlp(x)"
      ]
    },
    {
      "cell_type": "code",
      "source": [
        "# test PreprocessMLP\n",
        "block = PreprocessMLP(5, 32)\n",
        "temp_data = torch.randn(50, 5)  # batch_size = 50\n",
        "temp_data = block(temp_data)\n",
        "print(temp_data.shape)\n",
        "temp_data = temp_data.unsqueeze(1)\n",
        "print(temp_data.shape)"
      ],
      "metadata": {
        "colab": {
          "base_uri": "https://localhost:8080/"
        },
        "id": "iAPdR8P4Kn8v",
        "outputId": "c5e9bd59-81e0-4869-c67a-77227aff7f4c"
      },
      "id": "iAPdR8P4Kn8v",
      "execution_count": 12,
      "outputs": [
        {
          "output_type": "stream",
          "name": "stdout",
          "text": [
            "torch.Size([50, 32])\n",
            "torch.Size([50, 1, 32])\n"
          ]
        }
      ]
    },
    {
      "cell_type": "code",
      "execution_count": 13,
      "id": "ba598378",
      "metadata": {
        "id": "ba598378",
        "cellView": "code"
      },
      "outputs": [],
      "source": [
        "class ParticlePositionPredictor(nn.Module):\n",
        "    \n",
        "    def __init__(self,\n",
        "                 num_positions=num_positions,\n",
        "                 num_particles=num_particles,\n",
        "                 embed_dim=32, \n",
        "                 hidden_dim=64, \n",
        "                 num_layers=1,\n",
        "                 hidden_dense_dim=64,\n",
        "                 dense_dropout=0.4):\n",
        "\n",
        "        '''\n",
        "        embed_dim: embedding size of velocity, charge, position = output size of MLP block = input size of LSTM\n",
        "        hidden_dim: size of LSTM hidden layer\n",
        "        num_layers: number of hidden layers in each LSTM\n",
        "        hidden_dense_dim: size of the dense layer after LSTM\n",
        "        dense_dropout: rate for dropout layer after the dense layer\n",
        "        '''\n",
        "        \n",
        "        super(ParticlePositionPredictor, self).__init__()\n",
        "\n",
        "        self.embed_dim = embed_dim\n",
        "        self.num_positions = num_positions\n",
        "        self.num_particles = num_particles\n",
        "\n",
        "        self.speedMLP = PreprocessMLP(num_positions, self.embed_dim)\n",
        "        self.chargeMLP = PreprocessMLP(num_particles, self.embed_dim)\n",
        "        self.positionMLP = PreprocessMLP(num_positions, self.embed_dim)\n",
        "        \n",
        "        # Process data with LSTM\n",
        "        self.rnn = nn.LSTM(embed_dim, hidden_dim, num_layers=num_layers, batch_first=True)  # batch_size, hidden_dim\n",
        "\n",
        "        # Fully connected layer after RNN output, to learn more complex relations\n",
        "        self.f0 = nn.Linear(hidden_dim, hidden_dense_dim)\n",
        "        self.relu = nn.ReLU()\n",
        "\n",
        "        # Dropout to regularize this dense layer\n",
        "        self.drop = nn.Dropout(p=dense_dropout)\n",
        "\n",
        "        # Map to a categorical distribution of length num_words\n",
        "        self.f1 = nn.Linear(hidden_dense_dim, num_positions)\n",
        "        \n",
        "        # No need of an additional activation layer, because it is actually a regression task, and the prediction can be any value\n",
        "        # Loss function\n",
        "        self.criterion = nn.MSELoss()\n",
        "        \n",
        "        # self.optimizer = torch.optim.SGD(self.parameters(), lr=0.001, weight_decay=0.05, momentum=0.9)\n",
        "        self.optimizer = torch.optim.Adam(self.parameters())  # weight_decay insreases loss dramatically,\n",
        "    \n",
        "    def forward(self, velocities, charges, positions):\n",
        "        \"\"\"\n",
        "        Forward pass of trainable model. It predicts each next word\n",
        "        in the descriptive sentence as if the previous word was correct\n",
        "        by substitution of the ground truth word for the previous word.\n",
        "\n",
        "        Input:\n",
        "        charges: (batch_size, num_particles) num_particles = 5\n",
        "        velocities: (batch_size, num_positions) num_positions = 10 -> 5x + 5y\n",
        "        posiitons: (batch_size, num_positions) num_positions = 10\n",
        "\n",
        "        Outputs:\n",
        "        output: (batch_size, num_times + 1, num_positions), num_times = 4 , num_positions = 10\n",
        "        \"\"\"\n",
        "\n",
        "        velocity_vector = self.speedMLP(velocities)\n",
        "        velocity_vector = velocity_vector.unsqueeze(1) # add a dimension to tensor such that it matches the model\n",
        "        charge_vector = self.chargeMLP(charges.type(torch.FloatTensor))\n",
        "        charge_vector = charge_vector.unsqueeze(1)\n",
        "        # position_embedding = (lambda x: self.positionMLP(x))(positions)\n",
        "        position_embedding = self.positionMLP(positions)\n",
        "\n",
        "        # Remove the position of the last time point, as it is only used for true prediction value. [start:end], [:-1] without the last one\n",
        "        position_embedding = position_embedding[:, :-1,:]   # batch_size, time, embedding\n",
        "\n",
        "        # Concatenate all our inputs -> velocity, charge and position\n",
        "        concat_embeddings = torch.cat([velocity_vector, charge_vector, position_embedding], dim=1) #(batch_size, max_seq_len_in_batch+1, embedding_dim)\n",
        "        \n",
        "        # Feed packed input sequence to rnn\n",
        "        # return: output, (hn, cn)\n",
        "        rnn_output, _ = self.rnn(concat_embeddings)  #(batch_size, max_seq_len_in_batch+1, embedding_dim)\n",
        "\n",
        "        # To further process, put the data through a dense layer\n",
        "        output = self.f0(rnn_output)\n",
        "\n",
        "        # apply activation\n",
        "        output = self.relu(output)\n",
        "\n",
        "        # and apply dropout!\n",
        "        output = self.drop(output)\n",
        "\n",
        "        # Map rnn output to vector of length num_words\n",
        "        output = self.f1(output) #(batch_size, num_time + 1, 10), 10 -> 5 positions(x, y)\n",
        "\n",
        "        # we remove the first two outputs as it corresponds to initial speed and charge\n",
        "        # we only need the prediction on t = 0.5, 1.0, 1.5. We do not need to predict for position on t = 0\n",
        "        output = output[:, 2:] #(batch_size, num_time -1, 10)\n",
        "        return output\n",
        "        "
      ]
    },
    {
      "cell_type": "markdown",
      "id": "dea70d73",
      "metadata": {
        "id": "dea70d73"
      },
      "source": [
        "# Model Training"
      ]
    },
    {
      "cell_type": "code",
      "execution_count": 14,
      "id": "3af520ae",
      "metadata": {
        "id": "3af520ae",
        "cellView": "code"
      },
      "outputs": [],
      "source": [
        "import time\n",
        "\n",
        "def train(dataloader):\n",
        "    model.train()\n",
        "    total_correct, total_count = 0, 0\n",
        "\n",
        "    for charges, velocities, positions in dataloader:\n",
        "        # padded_word_idcs: padded caption tokens(still textual, not index yet)\n",
        "\n",
        "        charges = charges.to(device)\n",
        "        velocities = velocities.to(device)\n",
        "        positions = positions.to(device)\n",
        "        \n",
        "        model.optimizer.zero_grad()\n",
        "\n",
        "        # prediction on t = 0.5, 1.0, 1.5\n",
        "        y_pred = model(charges, velocities, positions)\n",
        "        \n",
        "        # y_true: crop the true positions, as we only need the last 3 positions\n",
        "        y_true = positions[:, 1:, :]\n",
        "        loss = model.criterion(y_pred, y_true)\n",
        "        \n",
        "        loss.backward()\n",
        "        \n",
        "        # set a gradient threshold to avoid exploding gradient\n",
        "        torch.nn.utils.clip_grad_norm_(model.parameters(), 0.1)\n",
        "        \n",
        "        model.optimizer.step()\n",
        "        \n",
        "        # TODO: how to evaluate the performance/accuracy of the model? distance is not a good metric to express performance?\n",
        "        # total_correct += (y_pred.argmax(2) == padded_word_idcs).sum().item()\n",
        "        # total_count += padded_word_idcs.size(0) * 35\n",
        "\n",
        "    return loss.item()\n",
        "\n",
        "def evaluate(dataloader):\n",
        "    model.eval()\n",
        "    total_correct, total_count = 0, 0\n",
        "\n",
        "    with torch.no_grad():\n",
        "        for charges, velocities, positions in dataloader:\n",
        "            \n",
        "            charges = charges.to(device)\n",
        "            velocities = velocities.to(device)\n",
        "            positions = positions.to(device)\n",
        "\n",
        "            y_pred = model(charges, velocities, positions)\n",
        "            y_true = positions[:, 1:, :]\n",
        "            loss = model.criterion(y_pred, y_true)\n",
        "\n",
        "            # total_correct += (y_pred.argmax(2) == padded_word_idcs).sum().item()\n",
        "            # total_count += padded_word_idcs.size(0) * 35\n",
        "\n",
        "    return loss.item()"
      ]
    },
    {
      "cell_type": "code",
      "execution_count": 15,
      "id": "e95af5f9",
      "metadata": {
        "id": "e95af5f9",
        "colab": {
          "base_uri": "https://localhost:8080/"
        },
        "cellView": "code",
        "outputId": "f324a981-b8ca-4119-d22f-a9d0a3081c4c"
      },
      "outputs": [
        {
          "output_type": "stream",
          "name": "stdout",
          "text": [
            "--------------------------------------------------------------------------------\n",
            "| end of epoch   1 | time:  2.24s | train loss: 5.099    validation loss: 5.576\n",
            "--------------------------------------------------------------------------------\n",
            "--------------------------------------------------------------------------------\n",
            "| end of epoch   2 | time:  2.09s | train loss: 2.393    validation loss: 2.821\n",
            "--------------------------------------------------------------------------------\n",
            "--------------------------------------------------------------------------------\n",
            "| end of epoch   3 | time:  2.23s | train loss: 1.575    validation loss: 1.721\n",
            "--------------------------------------------------------------------------------\n",
            "--------------------------------------------------------------------------------\n",
            "| end of epoch   4 | time:  2.33s | train loss: 1.253    validation loss: 1.366\n",
            "--------------------------------------------------------------------------------\n",
            "--------------------------------------------------------------------------------\n",
            "| end of epoch   5 | time:  2.41s | train loss: 1.079    validation loss: 1.158\n",
            "--------------------------------------------------------------------------------\n",
            "--------------------------------------------------------------------------------\n",
            "| end of epoch   6 | time:  2.24s | train loss: 0.904    validation loss: 0.983\n",
            "--------------------------------------------------------------------------------\n",
            "--------------------------------------------------------------------------------\n",
            "| end of epoch   7 | time:  2.27s | train loss: 0.738    validation loss: 0.774\n",
            "--------------------------------------------------------------------------------\n",
            "--------------------------------------------------------------------------------\n",
            "| end of epoch   8 | time:  1.05s | train loss: 0.653    validation loss: 0.684\n",
            "--------------------------------------------------------------------------------\n",
            "--------------------------------------------------------------------------------\n",
            "| end of epoch   9 | time:  1.02s | train loss: 0.597    validation loss: 0.634\n",
            "--------------------------------------------------------------------------------\n",
            "--------------------------------------------------------------------------------\n",
            "| end of epoch  10 | time:  1.11s | train loss: 0.555    validation loss: 0.600\n",
            "--------------------------------------------------------------------------------\n",
            "--------------------------------------------------------------------------------\n",
            "| end of epoch  11 | time:  1.04s | train loss: 0.510    validation loss: 0.564\n",
            "--------------------------------------------------------------------------------\n",
            "--------------------------------------------------------------------------------\n",
            "| end of epoch  12 | time:  1.07s | train loss: 0.394    validation loss: 0.475\n",
            "--------------------------------------------------------------------------------\n",
            "--------------------------------------------------------------------------------\n",
            "| end of epoch  13 | time:  1.07s | train loss: 0.282    validation loss: 0.349\n",
            "--------------------------------------------------------------------------------\n",
            "--------------------------------------------------------------------------------\n",
            "| end of epoch  14 | time:  1.02s | train loss: 0.236    validation loss: 0.298\n",
            "--------------------------------------------------------------------------------\n",
            "--------------------------------------------------------------------------------\n",
            "| end of epoch  15 | time:  1.02s | train loss: 0.207    validation loss: 0.262\n",
            "--------------------------------------------------------------------------------\n",
            "--------------------------------------------------------------------------------\n",
            "| end of epoch  16 | time:  1.00s | train loss: 0.175    validation loss: 0.226\n",
            "--------------------------------------------------------------------------------\n",
            "--------------------------------------------------------------------------------\n",
            "| end of epoch  17 | time:  1.03s | train loss: 0.150    validation loss: 0.196\n",
            "--------------------------------------------------------------------------------\n",
            "--------------------------------------------------------------------------------\n",
            "| end of epoch  18 | time:  1.06s | train loss: 0.125    validation loss: 0.169\n",
            "--------------------------------------------------------------------------------\n",
            "--------------------------------------------------------------------------------\n",
            "| end of epoch  19 | time:  1.05s | train loss: 0.110    validation loss: 0.147\n",
            "--------------------------------------------------------------------------------\n",
            "--------------------------------------------------------------------------------\n",
            "| end of epoch  20 | time:  1.08s | train loss: 0.100    validation loss: 0.131\n",
            "--------------------------------------------------------------------------------\n"
          ]
        }
      ],
      "source": [
        "EPOCHS = 20\n",
        "\n",
        "device = torch.device(\"cuda:0\" if torch.cuda.is_available() else \"cpu\")\n",
        "\n",
        "# Hyperparameters\n",
        "\n",
        "model = ParticlePositionPredictor(\n",
        "                 embed_dim=32, \n",
        "                 hidden_dim=64, # output size of MLP, input size of LSTM, embedding size of velocity, charge, position\n",
        "                 num_layers=1,\n",
        "                 hidden_dense_dim=64,\n",
        "                 dense_dropout=0).to(device)  # dropout increases training loss dramatically such that validation loss and test loss are lower than training loss! Thus, dropout is removed.\n",
        "\n",
        "train_loss, cali_train_loss, val_loss, test_loss = [], [], [], []\n",
        "# training loop\n",
        "for epoch in range(1, EPOCHS + 1):\n",
        "    epoch_start_time = time.time()\n",
        "\n",
        "    train_loss.append(train(train_dataloader))\n",
        "    # cali_train_loss.append(evaluate(train_dataloader))\n",
        "    val_loss.append(evaluate(val_dataloader))\n",
        "    test_loss.append(evaluate(test_dataloader))\n",
        "    \n",
        "    print('-' * 80)\n",
        "    print('| end of epoch {:3d} | time: {:5.2f}s | '\n",
        "          'train loss: {:5.3f}    '\n",
        "          'validation loss: {:5.3f}'.format(epoch,\n",
        "                                     time.time() - epoch_start_time, \n",
        "                                     train_loss[-1],\n",
        "                                    #  cali_train_loss[-1],\n",
        "                                     val_loss[-1],\n",
        "                                     test_loss[-1]))\n",
        "    print('-' * 80)"
      ]
    },
    {
      "cell_type": "code",
      "execution_count": 16,
      "id": "07e03ddf",
      "metadata": {
        "id": "07e03ddf",
        "colab": {
          "base_uri": "https://localhost:8080/",
          "height": 561
        },
        "cellView": "code",
        "outputId": "456c46d0-c228-47da-b183-d054d797b444"
      },
      "outputs": [
        {
          "output_type": "stream",
          "name": "stdout",
          "text": [
            "Train loss: 0.09994333982467651\n",
            "Validation loss: 0.13098964095115662\n",
            "Test loss: 0.17952381074428558\n"
          ]
        },
        {
          "output_type": "display_data",
          "data": {
            "text/plain": [
              "<Figure size 720x576 with 1 Axes>"
            ],
            "image/png": "[encoded data removed]"
          },
          "metadata": {
            "needs_background": "light"
          }
        }
      ],
      "source": [
        "def PlotLoss():\n",
        "  f, ax = plt.subplots(1,1, figsize=(10,8))\n",
        "\n",
        "  fnt=16\n",
        "  ax.plot(train_loss, color='blue', label='Train loss')\n",
        "  # ax.plot(cali_train_loss, color='green', label='Calibrated train loss')\n",
        "  ax.plot(val_loss, color='red', label='Validation loss')\n",
        "  # ax.plot(test_loss, color='green', label='Test loss')\n",
        "  ax.legend(fontsize=fnt)\n",
        "  ax.tick_params(axis='both', labelsize=fnt)\n",
        "\n",
        "  ax.set_xlabel(\"Epoch\", fontsize=fnt)\n",
        "  ax.set_ylabel(\"Loss\", fontsize=fnt);\n",
        "\n",
        "PlotLoss()\n",
        "test_loss = evaluate(test_dataloader)\n",
        "print(f\"Train loss: {train_loss[-1]}\\nValidation loss: {val_loss[-1]}\\nTest loss: {test_loss}\")"
      ]
    },
    {
      "cell_type": "code",
      "source": [
        "def get_predicted_positions(dataloader):\n",
        "  '''\n",
        "  get the predicted positions per particle per simulation at t = 0.5, 1.0, 1.5\n",
        "  '''\n",
        "  model.eval()\n",
        "  init = []\n",
        "  latter = []\n",
        "  pred = []\n",
        "\n",
        "  with torch.no_grad():\n",
        "    for charges, velocities, positions in dataloader:\n",
        "      charges = charges.to(device)\n",
        "      velocities = velocities.to(device)\n",
        "      positions = positions.to(device)\n",
        "\n",
        "      y_pred = model(charges, velocities, positions)\n",
        "      y_pred = y_pred.cpu().detach().numpy()   # (100, 3, 10)\n",
        "      first = positions[:, 0, :].unsqueeze(1).cpu().detach().numpy() #(100, 1, 10)\n",
        "      init.extend(first)\n",
        "      latter.extend(y_pred)\n",
        "\n",
        "  for i in range(len(init)):\n",
        "    pred.extend(np.concatenate((init[i], latter[i])))\n",
        "    \n",
        "  return np.array(pred).reshape(-1, num_times, 2, num_particles)"
      ],
      "metadata": {
        "id": "cj49Bqiksizj"
      },
      "id": "cj49Bqiksizj",
      "execution_count": 17,
      "outputs": []
    },
    {
      "cell_type": "code",
      "source": [
        "import matplotlib.colors as mc\n",
        "import colorsys\n",
        "import random\n",
        "\n",
        "def adjust_lightness(color, amount=0.5):\n",
        "    '''\n",
        "    helper function to change scatter color\n",
        "    '''\n",
        "    import matplotlib.colors as mc\n",
        "    import colorsys\n",
        "    try:\n",
        "        c = mc.cnames[color]\n",
        "    except:\n",
        "        c = color\n",
        "    c = colorsys.rgb_to_hls(*mc.to_rgb(c))\n",
        "    return colorsys.hls_to_rgb(c[0], max(0, min(1, amount * c[1])), c[2])\n",
        "\n",
        "pred_test_positions = get_predicted_positions(test_dataloader)\n",
        "\n",
        "markers = [\"x\", \"o\", \"s\", \"^\", \"d\"]\n",
        "\n",
        "def plot_prediction(sim_idx, pred_positions, true_positions):\n",
        "  for id in sim_idx:\n",
        "    pred = pred_positions[id]   # (4, 2, 5)\n",
        "    true = true_positions[id]   # (4, 2, 5)\n",
        "\n",
        "    pred_position_particle = []\n",
        "    true_position_particle = []\n",
        "    for p_id in range(num_particles):\n",
        "      pred_position_particle.append(pred[:,:,p_id])\n",
        "      true_position_particle.append(true[:,:,p_id])\n",
        "\n",
        "    fig, ax = plt.subplots(1,1, figsize=(10, 4))\n",
        "    for time_dix in range(num_times):\n",
        "\n",
        "      x_pred = pred[time_dix, 0]\n",
        "      y_pred = pred[time_dix, 1]\n",
        "      x_true = true[time_dix, 0]\n",
        "      y_true = true[time_dix, 1]\n",
        "\n",
        "      plt.scatter(x_pred, y_pred, s=30, color=adjust_lightness('yellowgreen', 1+time_dix*0.15), marker=markers[time_dix], label=f't={time_dix*0.5}: prediction')\n",
        "      plt.scatter(x_true, y_true, s=30, color=adjust_lightness('mediumorchid', 1+time_dix*0.15), marker=markers[time_dix], label=f't={time_dix*0.5}: true position')\n",
        "      ax.set_title(f\"Predictions and true positions for simulation {id}\")\n",
        "\n",
        "      box = ax.get_position()\n",
        "      ax.set_position([box.x0, box.y0, box.width * 0.9, box.height])\n",
        "      ax.legend(loc='center left', bbox_to_anchor=(1, 0.5))\n",
        "  \n",
        "  plt.show()\n",
        "\n",
        "# plot 3 random simulations\n",
        "idx = random.sample(range(positions_test.shape[0]), 3)\n",
        "plot_prediction(idx, pred_test_positions, positions_test)"
      ],
      "metadata": {
        "colab": {
          "base_uri": "https://localhost:8080/",
          "height": 809
        },
        "id": "vqqQb0YNhEWG",
        "outputId": "e439b335-4eca-4a75-b7a3-c205b8959b44"
      },
      "id": "vqqQb0YNhEWG",
      "execution_count": 18,
      "outputs": [
        {
          "output_type": "display_data",
          "data": {
            "text/plain": [
              "<Figure size 720x288 with 1 Axes>"
            ],
            "image/png": "[encoded data removed]"
          },
          "metadata": {
            "needs_background": "light"
          }
        },
        {
          "output_type": "display_data",
          "data": {
            "text/plain": [
              "<Figure size 720x288 with 1 Axes>"
            ],
            "image/png": "[encoded data removed]"
          },
          "metadata": {
            "needs_background": "light"
          }
        },
        {
          "output_type": "display_data",
          "data": {
            "text/plain": [
              "<Figure size 720x288 with 1 Axes>"
            ],
            "image/png": "[encoded data removed]"
          },
          "metadata": {
            "needs_background": "light"
          }
        }
      ]
    },
    {
      "cell_type": "code",
      "source": [
        "# import matplotlib.colors as mc\n",
        "# import colorsys\n",
        "# import random\n",
        "\n",
        "# def adjust_lightness(color, amount=0.5):\n",
        "#     '''\n",
        "#     helper function to change scatter color\n",
        "#     '''\n",
        "#     import matplotlib.colors as mc\n",
        "#     import colorsys\n",
        "#     try:\n",
        "#         c = mc.cnames[color]\n",
        "#     except:\n",
        "#         c = color\n",
        "#     c = colorsys.rgb_to_hls(*mc.to_rgb(c))\n",
        "#     return colorsys.hls_to_rgb(c[0], max(0, min(1, amount * c[1])), c[2])\n",
        "\n",
        "# pred_test_positions = get_predicted_positions(test_dataloader)\n",
        "\n",
        "# markers = [\"x\", \"o\", \"s\", \"^\", \"d\"]\n",
        "# colors = [\"yellowgreen\", \"darkmagenta\", \"royalblue\", \"darkgreen\", \"teal\", \"mediumorchid\", \"chocolate\", \"coral\", \"firebrick\", \"goldenrod\"]\n",
        "\n",
        "# def plot_prediction(sim_idx, pred_positions, true_positions):\n",
        "#   for id in sim_idx:\n",
        "#     pred = pred_positions[id]   # (4, 2, 5)\n",
        "#     true = true_positions[id]   # (4, 2, 5)\n",
        "\n",
        "#     fig, ax = plt.subplots(1,1, figsize=(6, 4))\n",
        "#     for p_id in range(num_particles):\n",
        "#       for time_dix in range(num_times):\n",
        "\n",
        "#         x_pred = pred[:,:,p_id][time_dix, 0]\n",
        "#         y_pred = pred[:,:,p_id][time_dix, 1]\n",
        "#         x_true = true[:,:,p_id][time_dix, 0]\n",
        "#         y_true = true[:,:,p_id][time_dix, 1]\n",
        "\n",
        "#         plt.scatter(x_pred, y_pred, s=30, color=adjust_lightness(colors[p_id], 1+time_dix*0.2), marker=markers[time_dix], label=f't={time_dix*0.5}: prediction')\n",
        "#         plt.scatter(x_true, y_true, s=30, color=adjust_lightness(colors[p_id + 5], 1+time_dix*0.15), marker=markers[time_dix], label=f't={time_dix*0.5}: true position')\n",
        "#         ax.set_title(f\"Predictions and true positions for simulation {id}\")\n",
        "\n",
        "#         # box = ax.get_position()\n",
        "#         # ax.set_position([box.x0, box.y0, box.width * 0.9, box.height])\n",
        "#         # ax.legend(loc='center left', bbox_to_anchor=(1, 0.5))\n",
        "  \n",
        "#   plt.show()\n",
        "\n",
        "# # plot 3 random simulations\n",
        "# idx = random.sample(range(positions_test.shape[0]), 3)\n",
        "# plot_prediction(idx, pred_test_positions, positions_test)"
      ],
      "metadata": {
        "id": "EBIn2J04i0tD"
      },
      "id": "EBIn2J04i0tD",
      "execution_count": 19,
      "outputs": []
    },
    {
      "cell_type": "markdown",
      "id": "d5fb3b29",
      "metadata": {
        "id": "d5fb3b29"
      },
      "source": [
        "# Evaluation"
      ]
    },
    {
      "cell_type": "markdown",
      "source": [
        "In the above section, we obtain the predicted positions by feeding the positions at all time points $t\\in\\{0, 0.5, 1.0, 1.5\\}$. Then, the loss is calculated by comparing the predictions and the true values. This approach is the same as how we treat validation set that we don't use the predicted position at the last time step to be the input position at next time step.\n",
        "\n",
        "To better evaluate the model, in the following section we only feed the initial position of the particles and get the predicted positions at $t\\in\\{0.5, 1.0, 1.5\\}$ with a greedy search method. That is, regarding output target position at each time step as the correct position, and putting it into the model as the start position for the next turn.\n",
        "\n",
        "<image src=\"https://cdn.jsdelivr.net/gh/ruichen-ing/images@master/RNN_a2_decoder.png\" width=700 />"
      ],
      "metadata": {
        "id": "NWbCsIGGXXU1"
      },
      "id": "NWbCsIGGXXU1"
    },
    {
      "cell_type": "code",
      "execution_count": 20,
      "id": "bf5fa1b4",
      "metadata": {
        "id": "bf5fa1b4"
      },
      "outputs": [],
      "source": [
        "class GreedySearchEvaluator():\n",
        "    '''\n",
        "    Greedy search to get the position at the next time point\n",
        "    '''\n",
        "\n",
        "    def __init__(self, init_positions, velocity, charge, model=model, num_times=num_times):\n",
        "        self.trained_model = model\n",
        "        self.num_times = num_times\n",
        "        self.true_data = init_positions\n",
        "        self.velocities = velocity\n",
        "        self.charges = charge\n",
        "        \n",
        "    def evaluate(self):\n",
        "        '''\n",
        "        manually go through MLP and LSTM to get predictions by a greedy decode method\n",
        "        intput: velocity, charge, init_positions(t = 0)\n",
        "        output: predicted positions at t = 0.5, 1.0, 1.5\n",
        "                return a list with size = 3, each element of list is a tensor with the size (dataset_dim, 1, num_positions)\n",
        "                for test dataset, dataset_dim = 2000\n",
        "        '''\n",
        "        self.trained_model.train()\n",
        "        \n",
        "        with torch.no_grad():\n",
        "            velocity_vector = self.trained_model.speedMLP(self.velocities)\n",
        "            velocity_vector = velocity_vector.unsqueeze(1)\n",
        "\n",
        "            charge_vector = self.trained_model.chargeMLP(self.charges.type(torch.FloatTensor))\n",
        "            charge_vector = charge_vector.unsqueeze(1)\n",
        "\n",
        "            # take our rnn cell in eval-mode: in case we use multiple layers with\n",
        "            # dropout (not currently selected), we want to avoid using dropout in\n",
        "            # the evaluation -> .eval() fixes this\n",
        "            rnn_eval = self.trained_model.rnn.eval()\n",
        "\n",
        "            # pass the first two time steps, i.e. velocity and charge \n",
        "            # We don't need the output but the hidden state. It will then be fed into time step for positions\n",
        "            # hx: hidden state from the previous time step\n",
        "            _, rnn_state = rnn_eval(input=velocity_vector, hx=None)\n",
        "            _, rnn_state = rnn_eval(input=charge_vector, hx=rnn_state)\n",
        "\n",
        "            pred_positions = []\n",
        "            for t in range(self.num_times - 1):\n",
        "                if t == 0:\n",
        "                  # use the initial position to get the first position prediction\n",
        "                  position_embedding = self.trained_model.positionMLP(self.true_data[:, 0, :])   # (batch_size, num_positions)\n",
        "                  position_embedding = position_embedding.unsqueeze(1)    # (batch_size, 1, num_positions)\n",
        "                else:\n",
        "                  # last predicted position as next input\n",
        "                  position_embedding = self.trained_model.positionMLP(pred_positions[-1])\n",
        "                \n",
        "                # Feed embedding of previous word into RNN \n",
        "                rnn_output_next_position, rnn_state = rnn_eval(input=position_embedding.to(device), hx=rnn_state)\n",
        "\n",
        "                # feed output through dense\n",
        "                rnn_output_next_position = self.trained_model.f0(rnn_output_next_position)\n",
        "                rnn_output_next_position = self.trained_model.relu(rnn_output_next_position)\n",
        "\n",
        "                # Map to num_positions entries which enables predicting next position of particles\n",
        "                pred_next_position = self.trained_model.f1(rnn_output_next_position)\n",
        "                \n",
        "                # append next position to position list\n",
        "                pred_positions.append(pred_next_position)\n",
        "\n",
        "                self.pred = pred_positions\n",
        "\n",
        "\n",
        "    def loss(self):\n",
        "      '''\n",
        "      calculate MSE loss by comparing predicted positions with true test positions\n",
        "      '''\n",
        "      greedy_pred_positions = torch.zeros(self.true_data.shape)\n",
        "\n",
        "      for i in range(num_times):\n",
        "        if i == 0:\n",
        "          greedy_pred_positions[:, i, :] = self.true_data[:, 0, :]\n",
        "        else:\n",
        "          greedy_pred_positions[:, i, :] = self.pred[i - 1].reshape(-1, num_positions)\n",
        "      \n",
        "      loss_fn = nn.MSELoss()\n",
        "      loss = [loss_fn(greedy_pred_positions[:, i, :], self.true_data[:, i, :]).item()\n",
        "                for i in range(num_times)]\n",
        "      loss.append(loss_fn(greedy_pred_positions, self.true_data).item())\n",
        "\n",
        "      return greedy_pred_positions, loss"
      ]
    },
    {
      "cell_type": "code",
      "source": [
        "# input: initial speed, charge, initial position(t = 0)\n",
        "evaluator = GreedySearchEvaluator(position_test_data, velocity_test_data, charge_test_data, model, num_times)\n",
        "evaluator.evaluate()\n",
        "pp, loss = evaluator.loss()\n",
        "\n",
        "print(\"loss for test data\")\n",
        "for i in range(len(loss)):\n",
        "  if i == len(loss) - 1:\n",
        "    print(f\"average: {loss[i]}\")\n",
        "  else:\n",
        "    print(f\"t={i*0.5}: {loss[i]}\")"
      ],
      "metadata": {
        "colab": {
          "base_uri": "https://localhost:8080/"
        },
        "id": "SocUI4u6dV-J",
        "outputId": "bda54e18-fb01-4cc1-89f6-cbb2cec4cde5"
      },
      "id": "SocUI4u6dV-J",
      "execution_count": 21,
      "outputs": [
        {
          "output_type": "stream",
          "name": "stdout",
          "text": [
            "loss for test data\n",
            "t=0.0: 0.0\n",
            "t=0.5: 0.12839174270629883\n",
            "t=1.0: 0.34810227155685425\n",
            "t=1.5: 0.743708074092865\n",
            "average: 0.3050505220890045\n"
          ]
        }
      ]
    },
    {
      "cell_type": "code",
      "source": [
        "# compare the true position and the predicted position of a random simulation\n",
        "idx = random.randint(0, position_test_data.shape[0] - 1)\n",
        "print(f\"Simulation {idx}:\")\n",
        "print(\"-\" * 75)\n",
        "print(f\"true position:\\n{position_test_data[idx, :, :]}\")\n",
        "print(\"-\" * 75)\n",
        "print(f\"predicted position(greedy search):\\n{pp[idx, :, :]}\")"
      ],
      "metadata": {
        "colab": {
          "base_uri": "https://localhost:8080/"
        },
        "id": "ZpPtpKJfJIYY",
        "outputId": "3522a6d5-27a3-4363-e28f-3fc578401c83"
      },
      "id": "ZpPtpKJfJIYY",
      "execution_count": 22,
      "outputs": [
        {
          "output_type": "stream",
          "name": "stdout",
          "text": [
            "Simulation 991:\n",
            "---------------------------------------------------------------------------\n",
            "true position:\n",
            "tensor([[ 2.0313, -0.8600, -0.1252, -0.7316,  1.9598, -1.3331, -0.0040, -0.2596,\n",
            "          1.2728, -1.4340],\n",
            "        [ 2.0844, -0.8455, -0.1843, -0.6176,  2.0679, -1.6866, -0.0633,  0.0655,\n",
            "          1.4030, -1.5541],\n",
            "        [ 2.2267, -0.3963, -0.7244, -0.4570,  2.0863, -1.9128,  0.1493,  0.1274,\n",
            "          1.5247, -1.8017],\n",
            "        [ 2.1127, -0.7384, -0.4698, -0.2990,  2.3603, -2.0601,  0.4688,  0.0683,\n",
            "          1.6602, -2.1279]])\n",
            "---------------------------------------------------------------------------\n",
            "predicted position(greedy search):\n",
            "tensor([[ 2.0313, -0.8600, -0.1252, -0.7316,  1.9598, -1.3331, -0.0040, -0.2596,\n",
            "          1.2728, -1.4340],\n",
            "        [ 2.2129, -0.9085,  0.1340, -0.8176,  2.6461, -1.0202,  0.0292, -0.0183,\n",
            "          1.6386, -1.8122],\n",
            "        [ 2.3797, -0.8533,  0.3400, -0.9965,  3.2305, -0.9227, -0.0491, -0.0477,\n",
            "          1.9935, -2.3067],\n",
            "        [ 2.5263, -0.8934,  0.4068, -1.3317,  3.7876, -0.8997, -0.1773,  0.0463,\n",
            "          2.1945, -2.7326]])\n"
          ]
        }
      ]
    },
    {
      "cell_type": "code",
      "execution_count": 23,
      "id": "2280031f",
      "metadata": {
        "id": "2280031f",
        "colab": {
          "base_uri": "https://localhost:8080/",
          "height": 809
        },
        "outputId": "e2697c4e-6034-4a47-95f8-9ebe0c6764e5"
      },
      "outputs": [
        {
          "output_type": "display_data",
          "data": {
            "text/plain": [
              "<Figure size 720x288 with 1 Axes>"
            ],
            "image/png": "[encoded data removed]"
          },
          "metadata": {
            "needs_background": "light"
          }
        },
        {
          "output_type": "display_data",
          "data": {
            "text/plain": [
              "<Figure size 720x288 with 1 Axes>"
            ],
            "image/png": "[encoded data removed]"
          },
          "metadata": {
            "needs_background": "light"
          }
        },
        {
          "output_type": "display_data",
          "data": {
            "text/plain": [
              "<Figure size 720x288 with 1 Axes>"
            ],
            "image/png": "[encoded data removed]"
          },
          "metadata": {
            "needs_background": "light"
          }
        }
      ],
      "source": [
        "# plot 3 simulations(greedy decoder)\n",
        "pp = pp.reshape(pp.shape[0], num_times, -1, num_particles)   # change the dimension to the same of positions_test\n",
        "idx = random.sample(range(positions_test.shape[0]), 3)\n",
        "plot_prediction(idx, pp, positions_test)"
      ]
    }
  ],
  "metadata": {
    "kernelspec": {
      "display_name": "Python 3",
      "language": "python",
      "name": "python3"
    },
    "language_info": {
      "codemirror_mode": {
        "name": "ipython",
        "version": 3
      },
      "file_extension": ".py",
      "mimetype": "text/x-python",
      "name": "python",
      "nbconvert_exporter": "python",
      "pygments_lexer": "ipython3",
      "version": "3.8.8"
    },
    "colab": {
      "name": "a2_skeleton.ipynb",
      "provenance": [],
      "collapsed_sections": []
    }
  },
  "nbformat": 4,
  "nbformat_minor": 5
}